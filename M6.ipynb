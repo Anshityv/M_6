{
  "nbformat": 4,
  "nbformat_minor": 0,
  "metadata": {
    "colab": {
      "provenance": []
    },
    "kernelspec": {
      "name": "python3",
      "display_name": "Python 3"
    },
    "language_info": {
      "name": "python"
    }
  },
  "cells": [
    {
      "cell_type": "markdown",
      "source": [
        "theory questions\n"
      ],
      "metadata": {
        "id": "r83Ph5L1Wi-e"
      }
    },
    {
      "cell_type": "markdown",
      "source": [
        "1.  What is the difference between interpreted and compiled languages\n",
        "-  Compiled Languages\n",
        "\n",
        "Definition: Compiled languages are converted directly into machine code that the computer's processor can understand. This conversion happens before the\n",
        "program is run, using a compiler.\n",
        "\n",
        "Execution: The compiled code is executed directly by the processor, which makes it generally faster.\n",
        "\n",
        "Examples: C, C++, Java\n",
        "\n",
        "Interpreted Languages\n",
        "\n",
        "Definition: Interpreted languages are not directly converted to machine code. Instead, an interpreter reads and executes the code line by line during runtime.\n",
        "\n",
        "Execution: Each line of code is interpreted and executed as the program runs, which makes it generally slower than compiled languages.\n",
        "\n",
        "Examples: Python, JavaScript, R\n",
        "\n",
        "2.  What is exception handling in Python\n",
        "-  Exception handling is a mechanism in Python that allows you to gracefully handle these errors and prevent your program from crashing. It involves using try, except, else, and finally blocks to control the flow of execution when an exception occurs.\n",
        "\n",
        "3.  What is the purpose of the finally block in exception handling\n",
        "- The finally block ensures that code within it is always executed, regardless of whether an exception occurred or not. It's primarily used for cleanup operations, like releasing resources (closing files, network connections, etc.), even if errors happen. This guarantees that resources are properly managed and prevents potential issues.\n",
        "\n",
        "4.  What is logging in Python\n",
        "- In Python, logging refers to the process of recording events, messages, and data about your program's execution. It's a valuable tool for debugging, monitoring, and understanding the behavior of your code.\n",
        "\n",
        "5. What is the significance of the __del__ method in Python\n",
        "- The __del__ method, also known as a destructor, is called when an object is about to be destroyed or garbage collected. Here's its significance:\n",
        "\n",
        "Cleanup Actions: The primary role of __del__ is to perform cleanup actions before an object is removed from memory. This is crucial for releasing resources held by the object, such as:\n",
        "\n",
        "Closing files or network connections: Ensuring that files or network connections opened by the object are properly closed.\n",
        "\n",
        "Deleting temporary files: Removing any temporary files or data created by the object during its lifetime.\n",
        "\n",
        "Finalizing operations: Performing any necessary finalization tasks before the object is destroyed.\n",
        "\n",
        "6.  What is the difference between import and from ... import in Python\n",
        "- import module: Imports the entire module. You access its contents using module.name.\n",
        "\n",
        "Example: import math then math.sqrt(4)\n",
        "\n",
        "from module import name: Imports specific items (like functions or classes) from the module. You use them directly.\n",
        "\n",
        " Example: from math import sqrt then sqrt(4)\n",
        "\n",
        " 7.  How can you handle multiple exceptions in Python\n",
        " -\n",
        " 1. Using Multiple except Blocks:\n",
        "You can use multiple except blocks, each targeting a specific exception type. This allows you to handle different exceptions with separate code blocks.\n",
        "\n",
        "2. Handling Multiple Exceptions in a Single except Block:\n",
        "You can handle multiple exceptions in a single except block by specifying them as a tuple.\n",
        "\n",
        "3. Using a Generic except Block:\n",
        "You can use a generic except block to catch any exception that might occur. However, this is generally not recommended as it can make it harder to debug\n",
        "specific errors.\n",
        "\n",
        "8. What is the purpose of the with statement when handling files in Python\n",
        "- The with statement ensures a file is automatically closed when you're finished with it, even if errors occur. This prevents resource leaks and makes your code cleaner by avoiding the need for explicit try, except, and finally blocks.\n",
        "\n",
        "In short, with makes file handling safer and more concise.\n",
        "\n",
        "9. What is the difference between multithreading and multiprocessing\n",
        "- Multithreading:\n",
        "\n",
        "Runs multiple threads within a single process\n",
        "sharing memory.\n",
        "Good for I/O-bound tasks.\n",
        "\n",
        "Multiprocessing:\n",
        "Runs multiple processes\n",
        "each with its own memory space.\n",
        "Good for CPU-bound tasks.\n",
        "\n",
        "10. What are the advantages of using logging in a program\n",
        "-\n",
        "Debugging: Helps pinpoint errors and understand program flow.\n",
        "\n",
        "Monitoring: Tracks application health and performance.\n",
        "\n",
        "Auditing: Records events for security and analysis.\n",
        "\n",
        "Troubleshooting: Aids in diagnosing issues when they arise.\n",
        "\n",
        "11. What is memory management in Python\n",
        "- Python automatically manages memory using reference counting and garbage collection. This means you don't need to manually allocate or deallocate memory. When an object is no longer referenced, it's automatically deleted, freeing up memory.\n",
        "\n",
        "12. What are the basic steps involved in exception handling in Python\n",
        "- Exception handling in Python involves using try, except, else, and finally blocks to gracefully manage errors that might occur during program execution. Here are the basic steps:\n",
        "\n",
        "try block: Enclose the code that might raise an exception within a try block. This is where you anticipate potential errors.\n",
        "\n",
        "except block: Define one or more except blocks to handle specific exception types. If an exception of the specified type occurs within the try block, the corresponding except block is executed.\n",
        "\n",
        "else block (optional): Include an else block to execute code if no exceptions occur within the try block. This is for code that should run only when the try block completes successfully.\n",
        "\n",
        "finally block (optional): Use a finally block to define cleanup actions that should always be executed, regardless of whether an exception occurred or not. This is typically used for releasing resources, like closing files or network connections.\n",
        "\n",
        "13. Why is memory management important in Python\n",
        "- Memory management is crucial because it ensures efficient use of system resources and prevents memory leaks. By automatically allocating and deallocating memory, Python helps prevent your programs from consuming excessive memory and potentially crashing.\n",
        "\n",
        "14. What is the role of try and except in exception handling\n",
        "- In Python, exception handling is a mechanism for gracefully managing errors that might occur during program execution. The try and except blocks are essential components of this mechanism.\n",
        "\n",
        "try block\n",
        "\n",
        "The try block encloses the code that might raise an exception. It defines the section of code where you anticipate potential errors.\n",
        "\n",
        "except block\n",
        "\n",
        "The except block is used to handle specific exception types that might be raised within the try block. If an exception of the specified type occurs within the try block, the corresponding except block is executed.\n",
        "\n",
        "Here's how they work together:\n",
        "\n",
        "Execution Flow: When the program encounters a try block, it begins executing the code within it.\n",
        "\n",
        "Exception Handling: If an exception occurs inside the try block, the program immediately jumps to the except block that matches the type of exception raised.\n",
        "\n",
        "Handling the Exception: The code inside the except block is executed to handle the exception. This might involve printing an error message, logging the event, or taking corrective action.\n",
        "\n",
        "Resuming Execution: After the except block is executed, the program continues with the code that follows the try-except structure.\n",
        "\n",
        "15. How does Python's garbage collection system work\n",
        "- Python uses a combination of reference counting and a cyclic garbage collector to manage memory.\n",
        "\n",
        "Reference Counting: Each object has a count of how many references point to it. When this count reaches zero, the object is immediately deleted.\n",
        "\n",
        "Cyclic Garbage Collector: This collector detects and reclaims \"garbage\" created by circular references (objects referencing each other, preventing their counts from reaching zero). It periodically runs and identifies these unreachable objects, freeing up memory.\n",
        "\n",
        "16. What is the purpose of the else block in exception handling\n",
        "- The else block in a try-except statement is executed only if no exceptions occur within the try block. It's used for code that should run only when the try block completes successfully.\n",
        "\n",
        "17. What are the common logging levels in Python\n",
        "- There  are five standard logging levels, each representing a different severity of event:\n",
        "\n",
        "DEBUG: Used for detailed debugging information, typically of interest only to developers.\n",
        "\n",
        "INFO: Used for informational messages about the program's execution, such as the start or completion of a task.\n",
        "\n",
        "WARNING: Used to indicate potential issues or unexpected situations that might require attention, but don't necessarily represent errors.\n",
        "\n",
        "ERROR: Used to report errors that have occurred during program execution, such as exceptions or unexpected behavior.\n",
        "\n",
        "CRITICAL: Used to report critical errors that might lead to program termination or data loss.\n",
        "\n",
        "18. What is the difference between os.fork() and multiprocessing in Python\n",
        "-\n",
        "os.fork()\n",
        "\n",
        "Mechanism: os.fork() is a system call that creates a new process by duplicating the existing process (the parent). The new process (the child) is an almost identical copy of the parent, including its memory space, file descriptors, and other resources.\n",
        "\n",
        "Operating System Support: os.fork() is typically available on Unix-like systems (e.g., Linux, macOS) but not on Windows.\n",
        "\n",
        "Memory Sharing: The child process initially shares memory with the parent process using a copy-on-write mechanism. This means that changes made by one process don't immediately affect the other until the modified memory pages are copied.\n",
        "\n",
        "Communication: Communication between the parent and child processes can be achieved using shared memory, pipes, or other inter-process communication mechanisms.\n",
        "\n",
        "multiprocessing\n",
        "\n",
        "Mechanism: multiprocessing is a Python module that provides a higher-level interface for creating and managing processes. It uses different mechanisms depending on the operating system, including os.fork() on Unix-like systems and spawning new processes on Windows.\n",
        "\n",
        "Operating System Support: multiprocessing is cross-platform and works on both Unix-like systems and Windows.\n",
        "\n",
        "Memory Isolation: Each process created using multiprocessing has its own separate memory space, ensuring better isolation and preventing accidental data corruption.\n",
        "\n",
        "Communication: multiprocessing provides various communication channels, such as queues, pipes, and shared memory, for exchanging data between processes.\n",
        "\n",
        "19. What is the importance of closing a file in Python\n",
        "- Resource Management\n",
        "\n",
        "Operating System Limits: Operating systems have limits on the number of files that can be open simultaneously. If you don't close files, you could eventually reach this limit, preventing your program from opening new files.\n",
        "\n",
        "Resource Leaks: Open files consume system resources, such as memory and file handles. If you don't close them, these resources remain allocated, potentially leading to performance degradation or even system instability.\n",
        "\n",
        "Data Integrity\n",
        "\n",
        "Buffering: When you write to a file, the data might not be immediately written to disk. Instead, it's often buffered in memory and written in chunks. Closing the file ensures that any buffered data is flushed to disk, guaranteeing that all changes are saved.\n",
        "\n",
        "File Locking: On some operating systems, open files can be locked, preventing other programs or processes from accessing them. Closing the file releases the lock, allowing others to use the file.\n",
        "\n",
        "Error Handling\n",
        "\n",
        "Exception Safety: If an error occurs while working with a file, closing it in a finally block or using the with statement ensures that the file is closed even if an exception is raised. This prevents data corruption or resource leaks in error scenarios.\n",
        "\n",
        "Best Practices\n",
        "\n",
        "close() method: Explicitly call the close() method on the file object when you're finished with it.\n",
        "\n",
        "with statement: Use the with statement, which automatically closes the file when the block is exited, even if exceptions occur. This is the preferred approach for most cases as it provides a more concise and error-safe way to handle files.\n",
        "\n",
        "20. What is the difference between file.read() and file.readline() in Python\n",
        "- file.read()\n",
        "\n",
        "Reads the entire file: This method reads the entire content of the file as a single string. It returns the entire file content as a string.\n",
        "\n",
        "Suitable for small files: This is useful when you need to process the entire file content at once, but it can be inefficient for very large files.\n",
        "\n",
        "file.readline()\n",
        "\n",
        "Reads a single line: This method reads a single line from the file and returns it as a string. It moves the file pointer to the next line. If called repeatedly, it will read the file line by line.\n",
        "\n",
        "Suitable for large files or line-by-line processing: This method is generally preferred for handling large files as it reads the file one line at a time, reducing memory usage. It's also useful when you need to process the file on a line-by-line basis.\n",
        "\n",
        "21. What is the logging module in Python used for\n",
        "- Debugging:\n",
        "\n",
        "Identifying and fixing errors: Logging helps you pinpoint the source of errors by providing a record of what happened leading up to the error. You can log variable values, function calls, and other relevant information to understand the program's flow and identify where things went wrong.\n",
        "\n",
        "Tracing program execution: By strategically placing log messages throughout your code, you can create a detailed trace of the program's execution, making it easier to understand the sequence of events and identify potential bottlenecks or inefficiencies.\n",
        "\n",
        "Monitoring:\n",
        "\n",
        "Tracking application health: Logging allows you to monitor the health and performance of your application by recording important events and metrics. You can log things like resource usage, response times, and error rates to get insights into how your application is performing.\n",
        "\n",
        "Alerting on critical events: By setting up alerts based on specific log messages, you can be notified immediately when critical events occur, such as system errors or security breaches. This allows you to take timely action to mitigate the impact of these events.\n",
        "\n",
        "Auditing:\n",
        "\n",
        "Creating an audit trail: Logging can be used to create an audit trail of activities and changes in your system. This is especially important for security and compliance purposes, as it allows you to track who did what and when.\n",
        "\n",
        "Reconstructing events: In case of an incident or security breach, logs can be invaluable for reconstructing the sequence of events and identifying the root cause.\n",
        "Troubleshooting:\n",
        "\n",
        "Diagnosing issues: When issues arise in your application, logs provide a wealth of information to help you diagnose the problem. By examining the logs, you can understand the sequence of events leading up to the issue and identify potential solutions.\n",
        "\n",
        "Reproducing errors: Logs can help you reproduce errors by providing the context and conditions under which they occurred. This is essential for debugging and fixing complex issues.\n",
        "\n",
        "22. What is the os module in Python used for in file handling\n",
        "- The os module provides functions for interacting with the operating system's file system. It allows you to perform tasks like creating, deleting, renaming files and directories, checking file existence, and manipulating file paths.\n",
        "\n",
        "In essence, the os module is your toolbox for directly working with files and directories on your system within your Python code.\n",
        "\n",
        "23. What are the challenges associated with memory management in Python\n",
        "- Circular References: Objects referencing each other, preventing garbage collection and leading to memory leaks.\n",
        "\n",
        "Large Data Structures: Consuming excessive memory, potentially causing performance issues.\n",
        "\n",
        "Global Interpreter Lock (GIL): Limiting multithreading benefits for CPU-bound tasks, potentially impacting memory-intensive operations.\n",
        "\n",
        "Garbage Collection Overhead: Introducing pauses and overhead during memory reclamation.\n",
        "\n",
        "These challenges require careful consideration and strategies like using weak references, efficient data structures, and tuning garbage collection to ensure optimal memory usage in Python programs.\n",
        "\n",
        "24.  How do you raise an exception manually in Python\n",
        "- In Python, you can raise an exception manually using the raise statement. This is useful for signaling errors or unexpected conditions in your code.\n",
        "\n",
        "Using the raise statement:\n",
        "\n",
        "`raise ExceptionType(\"Error message\")`\n",
        "\n",
        "25. Why is it important to use multithreading in certain applications\n",
        "- Multithreading allows a program to execute multiple tasks concurrently, leading to:\n",
        "\n",
        "Improved responsiveness: Prevents programs from freezing while performing lengthy operations.\n",
        "\n",
        "Enhanced performance: Utilizes multiple CPU cores or overlaps I/O with computation.\n",
        "\n",
        "Resource sharing: Enables efficient communication and data sharing between tasks.\n",
        "\n",
        "Simplified structure: Breaks down complex tasks into smaller, manageable units.\n",
        "In essence, multithreading boosts performance and responsiveness, especially for I/O-bound tasks and applications requiring concurrent operations.\n"
      ],
      "metadata": {
        "id": "UpbsoeNwWiyZ"
      }
    },
    {
      "cell_type": "markdown",
      "source": [
        "practical questions"
      ],
      "metadata": {
        "id": "W9G7Lgelm644"
      }
    },
    {
      "cell_type": "code",
      "source": [
        "#1 How can you open a file for writing in Python and write a string to it?\n",
        "file = open(\"my_file.txt\", \"w\")  # Open the file in write mode\n",
        "file.write(\"This is the string I want to write.\\n\")  # Write the string\n",
        "file.close()  # Close the file\n"
      ],
      "metadata": {
        "id": "GTEAv4MIZWTZ"
      },
      "execution_count": 4,
      "outputs": []
    },
    {
      "cell_type": "code",
      "source": [
        "#2  Write a Python program to read the contents of a file and print each line?\n",
        "def read_and_print_file(file_path):\n",
        "    \"\"\"Reads the contents of a file and prints each line.\n",
        "\n",
        "    Args:\n",
        "        file_path: The path to the file.\n",
        "    \"\"\"\n",
        "    try:\n",
        "        with open(file_path, 'r') as file:\n",
        "            for line in file:\n",
        "                print(line, end='')\n",
        "    except FileNotFoundError:\n",
        "        print(f\"Error: File '{file_path}' not found.\")\n",
        "    except Exception as e:\n",
        "        print(f\"An error occurred: {e}\")\n",
        "\n",
        "file_path = \"my_file.txt\"\n",
        "read_and_print_file(file_path)"
      ],
      "metadata": {
        "id": "zD1CEf97rNPH"
      },
      "execution_count": null,
      "outputs": []
    },
    {
      "cell_type": "code",
      "source": [
        "#3  How would you handle a case where the file doesn't exist while trying to open it for reading?\n",
        "try:\n",
        "    with open(\"my_file.txt\", \"r\") as file:\n",
        "        contents = file.read()\n",
        "except FileNotFoundError:\n",
        "    print(\"The file 'my_file.txt' was not found.\")"
      ],
      "metadata": {
        "id": "KpLIlyo_rNM2"
      },
      "execution_count": 6,
      "outputs": []
    },
    {
      "source": [
        "#4 Write a Python script that reads from one file and writes its content to another file?\n",
        "with open(\"input.txt\", \"r\") as infile, open(\"output.txt\", \"w\") as outfile:\n",
        "    outfile.write(infile.read())\n",
        "print(\"File copied successfully!\")"
      ],
      "cell_type": "code",
      "metadata": {
        "id": "YLMxrJA0s5a7"
      },
      "execution_count": null,
      "outputs": []
    },
    {
      "cell_type": "code",
      "source": [
        "#5  How would you catch and handle division by zero error in Python?\n",
        "try:\n",
        "    result = 10 / 0\n",
        "except ZeroDivisionError:\n",
        "    print(\"Division by zero error occurred!\")\n",
        "    result = 0"
      ],
      "metadata": {
        "colab": {
          "base_uri": "https://localhost:8080/"
        },
        "id": "-xcJm1U4rNHa",
        "outputId": "4ceb9e03-55f8-4d95-9c0a-e06f86da6382"
      },
      "execution_count": 8,
      "outputs": [
        {
          "output_type": "stream",
          "name": "stdout",
          "text": [
            "Division by zero error occurred!\n"
          ]
        }
      ]
    },
    {
      "source": [
        "#6 Write a Python program that logs an error message to a log file when a division by zero exception occurs?\n",
        "\n",
        "import logging\n",
        "\n",
        "logging.basicConfig(filename='error.log', level=logging.ERROR,\n",
        "                    format='%(asctime)s - %(levelname)s - %(message)s')\n",
        "def divide(x, y):\n",
        "    try:\n",
        "        result = x / y\n",
        "        return result\n",
        "    except ZeroDivisionError:\n",
        "        logging.error(\"Division by zero error occurred!\")\n",
        "        return None\n",
        "numerator = 10\n",
        "denominator = 0\n",
        "result = divide(numerator, denominator)\n",
        "\n",
        "if result is None:\n",
        "    print(\"Error occurred. Check the error.log file for details.\")\n",
        "else:\n",
        "    print(f\"Result: {result}\")"
      ],
      "cell_type": "code",
      "metadata": {
        "colab": {
          "base_uri": "https://localhost:8080/"
        },
        "id": "itPn6SUCtiw_",
        "outputId": "ce27625b-51a5-4c99-e2b8-78fb49b422ce"
      },
      "execution_count": 9,
      "outputs": [
        {
          "output_type": "stream",
          "name": "stderr",
          "text": [
            "ERROR:root:Division by zero error occurred!\n"
          ]
        },
        {
          "output_type": "stream",
          "name": "stdout",
          "text": [
            "Error occurred. Check the error.log file for details.\n"
          ]
        }
      ]
    },
    {
      "source": [
        "#7 How do you log information at different levels (INFO, ERROR, WARNING) in Python using the logging module?\n",
        "\n",
        "import logging\n",
        "\n",
        "\n",
        "logging.basicConfig(filename='my_log.log', level=logging.DEBUG,\n",
        "                    format='%(asctime)s - %(levelname)s - %(message)s')\n",
        "\n",
        "logger = logging.getLogger(__name__)\n",
        "\n",
        "# Log messages at different levels\n",
        "logger.debug(\"This is a debug message.\")\n",
        "logger.info(\"This is an info message.\")\n",
        "logger.warning(\"This is a warning message.\")\n",
        "logger.error(\"This is an error message.\")\n",
        "logger.critical(\"This is a critical message.\")"
      ],
      "cell_type": "code",
      "metadata": {
        "colab": {
          "base_uri": "https://localhost:8080/"
        },
        "id": "Wx5QuMZbt0q1",
        "outputId": "97815ff4-3349-470b-cf94-0f324a08174b"
      },
      "execution_count": 10,
      "outputs": [
        {
          "output_type": "stream",
          "name": "stderr",
          "text": [
            "WARNING:__main__:This is a warning message.\n",
            "ERROR:__main__:This is an error message.\n",
            "CRITICAL:__main__:This is a critical message.\n"
          ]
        }
      ]
    },
    {
      "source": [
        "#8 Write a program to handle a file opening error using exception handling?\n",
        "\n",
        "def read_file(file_path):\n",
        "    try:\n",
        "        with open(file_path, 'r') as file:\n",
        "            content = file.read()\n",
        "            return content\n",
        "    except FileNotFoundError:\n",
        "        print(f\"Error: File '{file_path}' not found.\")\n",
        "        return None\n",
        "    except IOError:  # Handles other file-related errors\n",
        "        print(f\"Error: Could not open or read file '{file_path}'.\")\n",
        "        return None\n",
        "\n",
        "file_path = \"my_file.txt\"  # Replace with your file path\n",
        "file_content = read_file(file_path)\n",
        "\n",
        "if file_content:\n",
        "    print(\"File content:\")\n",
        "    print(file_content)\n",
        "else:\n",
        "    print(\"Could not read the file.\")"
      ],
      "cell_type": "code",
      "metadata": {
        "id": "KAwZLSIiuGU-"
      },
      "execution_count": null,
      "outputs": []
    },
    {
      "source": [
        "#9 How can you read a file line by line and store its content in a list in Python\n",
        "def read_file_to_list(file_path):\n",
        "    try:\n",
        "        with open(file_path, 'r') as file:\n",
        "            lines = file.readlines()\n",
        "            return lines\n",
        "    except FileNotFoundError:\n",
        "        print(f\"Error: File '{file_path}' not found.\")\n",
        "        return []\n",
        "    except Exception as e:\n",
        "        print(f\"An error occurred: {e}\")\n",
        "        return []\n",
        "file_path = \"my_file.txt\"\n",
        "file_lines = read_file_to_list(file_path)\n",
        "\n",
        "if file_lines:\n",
        "    print(\"File lines:\")\n",
        "    for line in file_lines:\n",
        "        print(line, end='')\n",
        "else:\n",
        "    print(\"Could not read the file.\")"
      ],
      "cell_type": "code",
      "metadata": {
        "colab": {
          "base_uri": "https://localhost:8080/"
        },
        "id": "-lZMvbv3uZuD",
        "outputId": "92b6ff08-b5c8-45bf-ba67-32215b0d3ffa"
      },
      "execution_count": 11,
      "outputs": [
        {
          "output_type": "stream",
          "name": "stdout",
          "text": [
            "File lines:\n",
            "This is the string I want to write.\n"
          ]
        }
      ]
    },
    {
      "source": [
        "#10 How can you append data to an existing file in Python\n",
        "def append_to_file(file_path, data):\n",
        "    try:\n",
        "        with open(file_path, 'a') as file:\n",
        "            file.write(data)\n",
        "        print(f\"Data appended to '{file_path}' successfully.\")\n",
        "    except FileNotFoundError:\n",
        "        print(f\"Error: File '{file_path}' not found.\")\n",
        "    except Exception as e:\n",
        "        print(f\"An error occurred: {e}\")\n",
        "file_path = \"my_file.txt\"\n",
        "data_to_append = \"This is the data to append.\\n\"\n",
        "append_to_file(file_path, data_to_append)"
      ],
      "cell_type": "code",
      "metadata": {
        "colab": {
          "base_uri": "https://localhost:8080/"
        },
        "id": "IF3cvqbxu4AT",
        "outputId": "4af19c0a-ce60-4de4-8b61-8ef3eaa57a9e"
      },
      "execution_count": 12,
      "outputs": [
        {
          "output_type": "stream",
          "name": "stdout",
          "text": [
            "Data appended to 'my_file.txt' successfully.\n"
          ]
        }
      ]
    },
    {
      "source": [
        "#11 Write a Python program that uses a try-except block to handle an error when attempting to access a dictionary key that doesn't exist\n",
        "def access_dictionary_key(dictionary, key):\n",
        "    try:\n",
        "        value = dictionary[key]\n",
        "        return value\n",
        "    except KeyError:\n",
        "        print(f\"Error: Key '{key}' not found in the dictionary.\")\n",
        "        return None\n",
        "\n",
        "my_dict = {\"name\": \"Alice\", \"age\": 30, \"city\": \"New York\"}\n",
        "key_to_access = \"country\"\n",
        "value = access_dictionary_key(my_dict, key_to_access)\n",
        "if value:\n",
        "    print(f\"The value for key '{key_to_access}' is: {value}\")\n",
        "else:\n",
        "    print(f\"Key '{key_to_access}' was not found in the dictionary.\")"
      ],
      "cell_type": "code",
      "metadata": {
        "colab": {
          "base_uri": "https://localhost:8080/"
        },
        "id": "vYl9veMVvNfl",
        "outputId": "74255bc2-08bc-428c-f123-dacb74942bef"
      },
      "execution_count": 13,
      "outputs": [
        {
          "output_type": "stream",
          "name": "stdout",
          "text": [
            "Error: Key 'country' not found in the dictionary.\n",
            "Key 'country' was not found in the dictionary.\n"
          ]
        }
      ]
    },
    {
      "source": [
        "#12 Write a program that demonstrates using multiple except blocks to handle different types of exceptions?\n",
        "\n",
        "def handle_exceptions():\n",
        "    try:\n",
        "        num1 = int(input(\"Enter a number: \"))\n",
        "        num2 = int(input(\"Enter another number: \"))\n",
        "        result = num1 / num2\n",
        "        print(f\"Result: {result}\")\n",
        "        my_list = [1, 2, 3]\n",
        "        print(f\"Element at index 3: {my_list[3]}\")\n",
        "    except ZeroDivisionError:\n",
        "        print(\"Error: Division by zero!\")\n",
        "    except ValueError:\n",
        "        print(\"Error: Invalid input. Please enter numbers only.\")\n",
        "    except IndexError:\n",
        "        print(\"Error: List index out of range.\")\n",
        "    except Exception as e:\n",
        "        print(f\"An unexpected error occurred: {e}\")\n",
        "\n",
        "handle_exceptions()"
      ],
      "cell_type": "code",
      "metadata": {
        "colab": {
          "base_uri": "https://localhost:8080/"
        },
        "id": "B83aTGRyvvGD",
        "outputId": "007e7455-3c85-4f07-e890-b733be31a22f"
      },
      "execution_count": 14,
      "outputs": [
        {
          "output_type": "stream",
          "name": "stdout",
          "text": [
            "Enter a number: 7\n",
            "Enter another number: 8\n",
            "Result: 0.875\n",
            "Error: List index out of range.\n"
          ]
        }
      ]
    },
    {
      "source": [
        "#13 How would you check if a file exists before attempting to read it in Python?\n",
        "\n",
        "import os\n",
        "\n",
        "def read_file_if_exists(file_path):\n",
        "    if os.path.exists(file_path):\n",
        "        with open(file_path, 'r') as file:\n",
        "            content = file.read()\n",
        "            print(\"File content:\")\n",
        "            print(content)\n",
        "    else:\n",
        "        print(f\"Error: File '{file_path}' does not exist.\")\n",
        "\n",
        "file_path = \"my_file.txt\"\n",
        "read_file_if_exists(file_path)"
      ],
      "cell_type": "code",
      "metadata": {
        "colab": {
          "base_uri": "https://localhost:8080/"
        },
        "id": "0yx_sIjKwEod",
        "outputId": "7b412bdb-2b4b-44a8-b469-5c10acfa2a71"
      },
      "execution_count": 15,
      "outputs": [
        {
          "output_type": "stream",
          "name": "stdout",
          "text": [
            "File content:\n",
            "This is the string I want to write.\n",
            "This is the data to append.\n",
            "\n"
          ]
        }
      ]
    },
    {
      "source": [
        "#14 Write a program that uses the logging module to log both informational and error messages?\n",
        "import logging\n",
        "logging.basicConfig(filename='my_log.log', level=logging.DEBUG,\n",
        "                    format='%(asctime)s - %(levelname)s - %(message)s')\n",
        "logger = logging.getLogger(__name__)\n",
        "def my_function():\n",
        "    \"\"\"Demonstrates logging informational and error messages.\"\"\"\n",
        "    logger.info(\"Starting my_function\")\n",
        "    try:\n",
        "        result = 10 / 0\n",
        "    except ZeroDivisionError:\n",
        "        logger.error(\"Division by zero error occurred!\")\n",
        "    else:\n",
        "        logger.info(f\"Result: {result}\")\n",
        "    logger.info(\"Finishing my_function\")\n",
        "\n",
        "# Call the function\n",
        "my_function()"
      ],
      "cell_type": "code",
      "metadata": {
        "colab": {
          "base_uri": "https://localhost:8080/"
        },
        "id": "YCygoQz5wqCY",
        "outputId": "dbd32618-40f5-43c2-a626-5108911cb6e8"
      },
      "execution_count": 16,
      "outputs": [
        {
          "output_type": "stream",
          "name": "stderr",
          "text": [
            "ERROR:__main__:Division by zero error occurred!\n"
          ]
        }
      ]
    },
    {
      "source": [
        "#15 F Write a Python program that prints the content of a file and handles the case when the file is empty?\n",
        "def print_file_content(file_path):\n",
        "    try:\n",
        "        with open(file_path, 'r') as file:\n",
        "            content = file.read()\n",
        "            if content:\n",
        "                print(\"File content:\")\n",
        "                print(content)\n",
        "            else:\n",
        "                print(f\"File '{file_path}' is empty.\")\n",
        "    except FileNotFoundError:\n",
        "        print(f\"Error: File '{file_path}' not found.\")\n",
        "    except Exception as e:\n",
        "        print(f\"An error occurred: {e}\")\n",
        "\n",
        "\n",
        "file_path = \"my_file.txt\"\n",
        "print_file_content(file_path)"
      ],
      "cell_type": "code",
      "metadata": {
        "colab": {
          "base_uri": "https://localhost:8080/"
        },
        "id": "ttEk3evIxmgW",
        "outputId": "dc2b92dc-7259-4326-f5a8-c0d598228d63"
      },
      "execution_count": 19,
      "outputs": [
        {
          "output_type": "stream",
          "name": "stdout",
          "text": [
            "File content:\n",
            "This is the string I want to write.\n",
            "This is the data to append.\n",
            "\n"
          ]
        }
      ]
    },
    {
      "source": [
        "#16 Demonstrate how to use memory profiling to check the memory usage of a small program ?\n",
        "!pip install memory_profiler==0.60.0\n",
        "import memory_profiler\n",
        "import random\n",
        "\n",
        "@memory_profiler.profile\n",
        "def my_function():\n",
        "    \"\"\"A simple function to demonstrate memory profiling.\"\"\"\n",
        "    my_list = [random.randint(1, 1000) for _ in range(100000)]\n",
        "    my_list.sort()\n",
        "    del my_list\n",
        "\n",
        "my_function()"
      ],
      "cell_type": "code",
      "metadata": {
        "id": "znqCZbg_yHaS"
      },
      "execution_count": null,
      "outputs": []
    },
    {
      "source": [
        "#17 Write a Python program to create and write a list of numbers to a file, one number per line?\n",
        "def write_numbers_to_file(file_path, numbers):\n",
        "    try:\n",
        "        with open(file_path, 'w') as file:\n",
        "            for number in numbers:\n",
        "                file.write(str(number) + '\\n')\n",
        "        print(f\"Numbers written to '{file_path}' successfully.\")\n",
        "    except Exception as e:\n",
        "        print(f\"An error occurred: {e}\")\n",
        "\n",
        "file_path = \"numbers.txt\"\n",
        "numbers = [1, 2, 3, 4, 5]\n",
        "write_numbers_to_file(file_path, numbers)"
      ],
      "cell_type": "code",
      "metadata": {
        "colab": {
          "base_uri": "https://localhost:8080/"
        },
        "id": "4tGY9dVUyhtp",
        "outputId": "1d248f98-59fd-47ac-ec6c-84baaa84db00"
      },
      "execution_count": 1,
      "outputs": [
        {
          "output_type": "stream",
          "name": "stdout",
          "text": [
            "Numbers written to 'numbers.txt' successfully.\n"
          ]
        }
      ]
    },
    {
      "source": [
        "#18  How would you implement a basic logging setup that logs to a file with rotation after 1MB?\n",
        "import logging\n",
        "from logging.handlers import RotatingFileHandler\n",
        "def setup_logging():\n",
        "    # Create logger\n",
        "    logger = logging.getLogger(__name__)\n",
        "    logger.setLevel(logging.DEBUG)\n",
        "\n",
        "    # Create RotatingFileHandler\n",
        "    handler = RotatingFileHandler(\"my_log.log\", maxBytes=1024 * 1024, backupCount=5)\n",
        "    handler.setLevel(logging.DEBUG)\n",
        "\n",
        "    # Create formatter and add it to the handler\n",
        "    formatter = logging.Formatter('%(asctime)s - %(levelname)s - %(message)s')\n",
        "    handler.setFormatter(formatter)\n",
        "\n",
        "    # Add handler to the logger\n",
        "    logger.addHandler(handler)\n",
        "    return logger\n",
        "\n",
        "logger = setup_logging()\n",
        "logger.info(\"This is an informational message.\")\n",
        "logger.error(\"This is an error message.\")"
      ],
      "cell_type": "code",
      "metadata": {
        "colab": {
          "base_uri": "https://localhost:8080/"
        },
        "id": "1BAcI0DLy0FX",
        "outputId": "05dac44e-aad6-498c-bcc7-08451b4f6c40"
      },
      "execution_count": 2,
      "outputs": [
        {
          "output_type": "stream",
          "name": "stderr",
          "text": [
            "INFO:__main__:This is an informational message.\n",
            "ERROR:__main__:This is an error message.\n"
          ]
        }
      ]
    },
    {
      "source": [
        "#19 Write a program that handles both IndexError and KeyError using a try-except block?\n",
        "\n",
        "def handle_index_and_key_errors():\n",
        "    try:\n",
        "        my_list = [1, 2, 3]\n",
        "        print(my_list[3])\n",
        "        my_dict = {\"name\": \"Alice\", \"age\": 30}\n",
        "        print(my_dict[\"city\"])\n",
        "    except IndexError:\n",
        "        print(\"Error: Index out of range for the list.\")\n",
        "    except KeyError:\n",
        "        print(\"Error: Key not found in the dictionary.\")\n",
        "    except Exception as e:\n",
        "        print(f\"An unexpected error occurred: {e}\")\n",
        "\n",
        "handle_index_and_key_errors()"
      ],
      "cell_type": "code",
      "metadata": {
        "colab": {
          "base_uri": "https://localhost:8080/"
        },
        "id": "Ybj4T3CrzKRU",
        "outputId": "0c41a3f1-a914-4692-f078-a70ae29cf007"
      },
      "execution_count": 3,
      "outputs": [
        {
          "output_type": "stream",
          "name": "stdout",
          "text": [
            "Error: Index out of range for the list.\n"
          ]
        }
      ]
    },
    {
      "source": [
        "#20 How would you open a file and read its contents using a context manager in Python?\n",
        "def read_file_with_context_manager(file_path):\n",
        "    try:\n",
        "        with open(file_path, 'r') as file:\n",
        "            content = file.read()\n",
        "            return content\n",
        "    except FileNotFoundError:\n",
        "        print(f\"Error: File '{file_path}' not found.\")\n",
        "        return None\n",
        "    except Exception as e:\n",
        "        print(f\"An error occurred: {e}\")\n",
        "        return None\n",
        "\n",
        "file_path = \"my_file.txt\"  # Replace with your file path\n",
        "file_content = read_file_with_context_manager(file_path)\n",
        "\n",
        "if file_content:\n",
        "    print(\"File content:\")\n",
        "    print(file_content)\n",
        "else:\n",
        "    print(\"Could not read the file.\")"
      ],
      "cell_type": "code",
      "metadata": {
        "colab": {
          "base_uri": "https://localhost:8080/"
        },
        "id": "tWdRtGV7zmcc",
        "outputId": "e245dfa5-7d3d-418f-a889-ad52bda3f5f8"
      },
      "execution_count": 4,
      "outputs": [
        {
          "output_type": "stream",
          "name": "stdout",
          "text": [
            "File content:\n",
            "This is the string I want to write.\n",
            "This is the data to append.\n",
            "\n"
          ]
        }
      ]
    },
    {
      "source": [
        "#21 Write a Python program that reads a file and prints the number of occurrences of a specific word?\n",
        "\n",
        "import re\n",
        "def count_word_occurrences(file_path, word):\n",
        "    try:\n",
        "        with open(file_path, 'r') as file:\n",
        "            content = file.read()\n",
        "            occurrences = len(re.findall(r'\\b' + word + r'\\b', content, re.IGNORECASE))\n",
        "            return occurrences\n",
        "    except FileNotFoundError:\n",
        "        print(f\"Error: File '{file_path}' not found.\")\n",
        "        return 0\n",
        "    except Exception as e:\n",
        "        print(f\"An error occurred: {e}\")\n",
        "        return 0\n",
        "\n",
        "file_path = \"my_file.txt\"\n",
        "word_to_count = \"example\"\n",
        "count = count_word_occurrences(file_path, word_to_count)\n",
        "print(f\"The word '{word_to_count}' appears {count} times in the file.\")"
      ],
      "cell_type": "code",
      "metadata": {
        "colab": {
          "base_uri": "https://localhost:8080/"
        },
        "id": "hTg2wKJuz9MN",
        "outputId": "24d0b72e-bf1b-4785-c3c5-f2c287bfed5f"
      },
      "execution_count": 5,
      "outputs": [
        {
          "output_type": "stream",
          "name": "stdout",
          "text": [
            "The word 'example' appears 0 times in the file.\n"
          ]
        }
      ]
    },
    {
      "source": [
        "#22 How can you check if a file is empty before attempting to read its contents?\n",
        "import os\n",
        "\n",
        "def is_file_empty(file_path):\n",
        "    return os.stat(file_path).st_size == 0\n",
        "\n",
        "file_path = \"my_file.txt\"\n",
        "\n",
        "if is_file_empty(file_path):\n",
        "    print(f\"File '{file_path}' is empty.\")\n",
        "else:\n",
        "    with open(file_path, 'r') as file:\n",
        "        content = file.read()"
      ],
      "cell_type": "code",
      "metadata": {
        "id": "z5n90NEQ0ZIe"
      },
      "execution_count": 7,
      "outputs": []
    },
    {
      "source": [
        "#23 Write a Python program that writes to a log file when an error occurs during file handling?\n",
        "import logging\n",
        "logging.basicConfig(filename='file_handling_errors.log', level=logging.ERROR,\n",
        "                    format='%(asctime)s - %(levelname)s - %(message)s')\n",
        "\n",
        "def process_file(file_path):\n",
        "    try:\n",
        "        with open(file_path, 'r') as file:\n",
        "            content = file.read()\n",
        "    except FileNotFoundError:\n",
        "        logging.error(f\"File not found: {file_path}\")\n",
        "    except IOError:\n",
        "        logging.error(f\"Error reading or writing to file: {file_path}\")\n",
        "    except Exception as e:\n",
        "        logging.exception(f\"An unexpected error occurred while processing file: {file_path}\")\n",
        "\n",
        "file_path = \"my_file.txt\"\n",
        "process_file(file_path)"
      ],
      "cell_type": "code",
      "metadata": {
        "id": "4t0PFJaY0z3n"
      },
      "execution_count": 8,
      "outputs": []
    }
  ]
}